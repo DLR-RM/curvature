{
 "cells": [
  {
   "cell_type": "markdown",
   "metadata": {},
   "source": [
    "# Approximate Bayesian inference\n",
    "This notebook demonstrates how to compute various approximations of the Fisher information matrix from (pre-trained) PyTorch models (e.g. *torchvision* models pretrainted on ImageNet) which can be used as preconditioners in second-order optimization or to perform approximate Bayesian inference."
   ]
  },
  {
   "cell_type": "code",
   "execution_count": 1,
   "metadata": {},
   "outputs": [],
   "source": [
    "# Standard imports\n",
    "import os\n",
    "import copy\n",
    "import numpy as np\n",
    "from tqdm import tqdm\n",
    "import torch\n",
    "import torchvision\n",
    "from matplotlib import pyplot as plt\n",
    "%matplotlib inline\n",
    "\n",
    "# From the repository\n",
    "from curvature import plot\n",
    "from curvature.curvatures import Diagonal, KFAC, EFB, INF\n",
    "from curvature.sampling import sample_and_replace_weights, invert_factors\n",
    "from curvature.utils import calibration_curve"
   ]
  },
  {
   "cell_type": "markdown",
   "metadata": {},
   "source": [
    "## Preliminaries\n",
    "After import a required modules, let's define some helper functions, the model and data we want to use and train the model (or use a pre-trained one)."
   ]
  },
  {
   "cell_type": "code",
   "execution_count": 2,
   "metadata": {},
   "outputs": [],
   "source": [
    "# Change this to 'cuda' if you have a working GPU.\n",
    "device = 'cuda'\n",
    "\n",
    "def train(model, data, criterion, optimizer, epochs):\n",
    "    model.train()\n",
    "    for epoch in range(epochs):\n",
    "        for images, labels in tqdm(data):\n",
    "            logits = model(images.to(device))\n",
    "\n",
    "            loss = criterion(logits, labels.to(device))\n",
    "            model.zero_grad()\n",
    "            loss.backward()\n",
    "            optimizer.step()\n",
    "            \n",
    "def eval(model, data):\n",
    "    model.eval()\n",
    "    logits = torch.Tensor().to(device)\n",
    "    targets = torch.LongTensor()\n",
    "\n",
    "    with torch.no_grad():\n",
    "        for images, labels in tqdm(data):\n",
    "            logits = torch.cat([logits, model(images.to(device))])\n",
    "            targets = torch.cat([targets, labels])\n",
    "    return torch.nn.functional.softmax(logits, dim=1), targets\n",
    "\n",
    "def accuracy(predictions, labels):\n",
    "    print(f\"Accuracy: {100 * np.mean(np.argmax(predictions.cpu().numpy(), axis=1) == labels.numpy()):.2f}%\")"
   ]
  },
  {
   "cell_type": "code",
   "execution_count": 3,
   "metadata": {},
   "outputs": [],
   "source": [
    "# Define a PyTorch model (or load a pretrained one).\n",
    "class Flatten(torch.nn.Module):\n",
    "    def forward(self, input):\n",
    "        return input.view(input.size(0), -1)\n",
    "\n",
    "# This tutorial uses a LeNet-5 variant.\n",
    "model = torch.nn.Sequential(\n",
    "    torch.nn.Conv2d(1, 6, 5, padding=2),\n",
    "    torch.nn.ReLU(),\n",
    "    torch.nn.MaxPool2d(2, 2),\n",
    "    torch.nn.Conv2d(6, 16, 5),\n",
    "    torch.nn.ReLU(),\n",
    "    torch.nn.MaxPool2d(2, 2),\n",
    "    Flatten(),\n",
    "    torch.nn.Linear(16 * 5 * 5, 120),\n",
    "    torch.nn.ReLU(),\n",
    "    torch.nn.Linear(120, 84),\n",
    "    torch.nn.ReLU(),\n",
    "    torch.nn.Linear(84, 10)).to(device)"
   ]
  },
  {
   "cell_type": "code",
   "execution_count": 4,
   "metadata": {},
   "outputs": [],
   "source": [
    "# Load some data for training\n",
    "torch_data = \"~/.torch/datasets\"  # Standard PyTorch dataset location\n",
    "train_set = torchvision.datasets.MNIST(root=torch_data,\n",
    "                                       train=True,\n",
    "                                       transform=torchvision.transforms.ToTensor(),\n",
    "                                       download=True)\n",
    "train_loader = torch.utils.data.DataLoader(train_set, batch_size=32)\n",
    "\n",
    "# And some for evaluating/testing\n",
    "test_set = torchvision.datasets.MNIST(root=torch_data,\n",
    "                                      train=False,\n",
    "                                      transform=torchvision.transforms.ToTensor(),\n",
    "                                      download=True)\n",
    "test_loader = torch.utils.data.DataLoader(test_set, batch_size=256)"
   ]
  },
  {
   "cell_type": "code",
   "execution_count": 5,
   "metadata": {},
   "outputs": [
    {
     "name": "stderr",
     "output_type": "stream",
     "text": [
      "100%|██████████| 1875/1875 [00:05<00:00, 317.47it/s]\n",
      "100%|██████████| 1875/1875 [00:05<00:00, 333.12it/s]\n"
     ]
    }
   ],
   "source": [
    "# Train the model (or load a pretrained one)\n",
    "criterion = torch.nn.CrossEntropyLoss().to(device)\n",
    "optimizer = torch.optim.SGD(model.parameters(), lr=0.001, momentum=0.9)\n",
    "train(model, train_loader, criterion, optimizer, epochs=2)"
   ]
  },
  {
   "cell_type": "code",
   "execution_count": 6,
   "metadata": {},
   "outputs": [
    {
     "name": "stderr",
     "output_type": "stream",
     "text": [
      "100%|██████████| 40/40 [00:00<00:00, 82.79it/s]"
     ]
    },
    {
     "name": "stdout",
     "output_type": "stream",
     "text": [
      "Accuracy: 94.11%\n"
     ]
    },
    {
     "name": "stderr",
     "output_type": "stream",
     "text": [
      "\n"
     ]
    }
   ],
   "source": [
    "# Evaluate the model (optional)\n",
    "sgd_predictions, sgd_labels = eval(model, test_loader)\n",
    "accuracy(sgd_predictions, sgd_labels)"
   ]
  },
  {
   "cell_type": "markdown",
   "metadata": {},
   "source": [
    "## The diagonal Fisher information matrix (FiM)\n",
    "Now we can compute the simplest curvature approximation: The diagonal Fisher information matrix (IM). This is done in a very similar way to a standard PyTorch training loop, except that we sample our labels from the output distribution\n",
    "of the trained model to obtain the IM instead of the 'empirical' IM which uses labels from the data distribution and replace the optimizer by the update of our curvature estimator.\n",
    "\n",
    "This will give a rank-1 approximation of the IM. If a better approximation is desired, use more samples from the model output distribution."
   ]
  },
  {
   "cell_type": "code",
   "execution_count": 7,
   "metadata": {},
   "outputs": [
    {
     "name": "stderr",
     "output_type": "stream",
     "text": [
      "100%|██████████| 1875/1875 [00:23<00:00, 79.84it/s]\n"
     ]
    }
   ],
   "source": [
    "model.train()\n",
    "diag = Diagonal(model)\n",
    "\n",
    "for images, labels in tqdm(train_loader):\n",
    "    logits = model(images.to(device))\n",
    "    dist = torch.distributions.Categorical(logits=logits)\n",
    "    \n",
    "    # A rank-10 diagonal FiM approximation.\n",
    "    for sample in range(10):\n",
    "        labels = dist.sample()\n",
    "        \n",
    "        loss = criterion(logits, labels)\n",
    "        model.zero_grad()\n",
    "        loss.backward(retain_graph=True)\n",
    "\n",
    "        diag.update(batch_size=images.size(0))"
   ]
  },
  {
   "cell_type": "markdown",
   "metadata": {},
   "source": [
    "## Kronecker factorization\n",
    "We can also compute the Kronecker factored FiM (KFAC). The module interface is exactly the same."
   ]
  },
  {
   "cell_type": "code",
   "execution_count": 8,
   "metadata": {},
   "outputs": [
    {
     "name": "stderr",
     "output_type": "stream",
     "text": [
      "100%|██████████| 1875/1875 [00:07<00:00, 259.28it/s]\n"
     ]
    }
   ],
   "source": [
    "kfac = KFAC(model)\n",
    "\n",
    "for images, labels in tqdm(train_loader):\n",
    "    logits = model(images.to(device))\n",
    "    dist = torch.distributions.Categorical(logits=logits)\n",
    "    \n",
    "    # A rank-1 Kronecker factored FiM approximation.\n",
    "    labels = dist.sample()\n",
    "    \n",
    "    loss = criterion(logits, labels)\n",
    "    model.zero_grad()\n",
    "    loss.backward()\n",
    "    \n",
    "    kfac.update(batch_size=images.size(0))"
   ]
  },
  {
   "cell_type": "markdown",
   "metadata": {},
   "source": [
    "# Eigenvalue correction\n",
    "To compute the sparse information form of the FiM, we first need to compute the eigenvalue corrected diagonal (EFB), which in turn requires the KFAC factors."
   ]
  },
  {
   "cell_type": "code",
   "execution_count": 9,
   "metadata": {},
   "outputs": [
    {
     "name": "stderr",
     "output_type": "stream",
     "text": [
      "100%|██████████| 1875/1875 [00:29<00:00, 63.10it/s]\n"
     ]
    }
   ],
   "source": [
    "efb = EFB(model, kfac.state)\n",
    "\n",
    "for images, labels in tqdm(train_loader):\n",
    "    logits = model(images.to(device))\n",
    "    dist = torch.distributions.Categorical(logits=logits)\n",
    "    \n",
    "    for sample in range(10):\n",
    "        labels = dist.sample()\n",
    "        \n",
    "        loss = criterion(logits, labels)\n",
    "        model.zero_grad()\n",
    "        loss.backward(retain_graph=True)\n",
    "    \n",
    "        efb.update(batch_size=images.size(0))"
   ]
  },
  {
   "cell_type": "markdown",
   "metadata": {},
   "source": [
    "# Sparse Information Form\n",
    "The final step is the computation of the diagonal correction term D. This does not involve any data. Further, we can choose the rank of the approximation."
   ]
  },
  {
   "cell_type": "code",
   "execution_count": 10,
   "metadata": {},
   "outputs": [
    {
     "name": "stderr",
     "output_type": "stream",
     "text": [
      "100%|██████████| 5/5 [00:00<00:00, 40.71it/s]\n"
     ]
    }
   ],
   "source": [
    "inf = INF(model, diag.state, kfac.state, efb.state)\n",
    "inf.update(rank=100)"
   ]
  },
  {
   "cell_type": "markdown",
   "metadata": {},
   "source": [
    "# Inversion and Sampling\n",
    "By inverting the IM approximation, we obtain an approximate weight posterior distribution of our model. Because the approximation is inaccurate, we need to regularize it with the two hyperparameters `N` (multiply) and `tau` (add).\n",
    "\n",
    "To transform our model into a Baysian Neural Network (BNN), we can now simply sample weights from the approximate posterior. Instead of single forward pass, we than perform multiple and average the results referred to as 'approximate Bayesian inference' or 'Monte Carlo integration'."
   ]
  },
  {
   "cell_type": "code",
   "execution_count": 16,
   "metadata": {},
   "outputs": [],
   "source": [
    "estimator = inf\n",
    "add = 1e15\n",
    "multiply = 1e20\n",
    "estimator.invert(add, multiply)"
   ]
  },
  {
   "cell_type": "code",
   "execution_count": 17,
   "metadata": {},
   "outputs": [
    {
     "name": "stderr",
     "output_type": "stream",
     "text": [
      "100%|██████████| 40/40 [00:00<00:00, 75.78it/s]\n",
      "100%|██████████| 40/40 [00:00<00:00, 82.99it/s]\n",
      "100%|██████████| 40/40 [00:00<00:00, 82.95it/s]\n",
      "100%|██████████| 40/40 [00:00<00:00, 82.18it/s]\n",
      "100%|██████████| 40/40 [00:00<00:00, 79.68it/s]\n",
      "100%|██████████| 40/40 [00:00<00:00, 83.15it/s]\n",
      "100%|██████████| 40/40 [00:00<00:00, 83.20it/s]\n",
      "100%|██████████| 40/40 [00:00<00:00, 82.64it/s]\n",
      "100%|██████████| 40/40 [00:00<00:00, 83.24it/s]\n",
      "100%|██████████| 40/40 [00:00<00:00, 83.54it/s]"
     ]
    },
    {
     "name": "stdout",
     "output_type": "stream",
     "text": [
      "Accuracy: 94.11%\n"
     ]
    },
    {
     "name": "stderr",
     "output_type": "stream",
     "text": [
      "\n"
     ]
    }
   ],
   "source": [
    "mean_predictions = 0\n",
    "samples = 10  # 10 Monte Carlo samples from the weight posterior.\n",
    "\n",
    "with torch.no_grad():\n",
    "    for sample in range(samples):\n",
    "        estimator.sample_and_replace()\n",
    "        predictions, labels = eval(model, test_loader)\n",
    "        mean_predictions += predictions\n",
    "    mean_predictions /= samples\n",
    "    \n",
    "accuracy(mean_predictions, labels)"
   ]
  },
  {
   "cell_type": "markdown",
   "metadata": {},
   "source": [
    "# Calibration\n",
    "The obtained averaged model output can now be compared against the single determinstic forward pass of the standard model. Here we only have a look at the calibration. For this simple model and dataset, the baseline is already very well calibrated and there is practically no difference between it and the Bayesian model, especially as we did not perform any hyperparameter search."
   ]
  },
  {
   "cell_type": "code",
   "execution_count": 18,
   "metadata": {},
   "outputs": [
    {
     "name": "stdout",
     "output_type": "stream",
     "text": [
      "ECE NN: 0.79%, ECE BNN: 0.78%\n"
     ]
    }
   ],
   "source": [
    "ece_nn = calibration_curve(sgd_predictions.cpu().numpy(), sgd_labels.numpy())[0]\n",
    "ece_bnn = calibration_curve(mean_predictions.cpu().numpy(), labels.numpy())[0]\n",
    "print(f\"ECE NN: {100 * ece_nn:.2f}%, ECE BNN: {100 * ece_bnn:.2f}%\")"
   ]
  },
  {
   "cell_type": "code",
   "execution_count": 19,
   "metadata": {},
   "outputs": [
    {
     "data": {
      "image/png": "[encoded data removed]",
      "text/plain": [
       "<Figure size 864x432 with 2 Axes>"
      ]
     },
     "metadata": {},
     "output_type": "display_data"
    }
   ],
   "source": [
    "fig, ax = plt.subplots(ncols=2, nrows=1, figsize=(12, 6), tight_layout=True)\n",
    "ax[0].set_title('SGD', fontsize=16)\n",
    "ax[1].set_title('INF-Laplace', fontsize=16)\n",
    "plot.reliability_diagram(sgd_predictions.cpu().numpy(), sgd_labels.numpy(), axis=ax[0])\n",
    "plot.reliability_diagram(mean_predictions.cpu().numpy(), labels.numpy(), axis=ax[1])"
   ]
  },
  {
   "cell_type": "code",
   "execution_count": 20,
   "metadata": {},
   "outputs": [
    {
     "data": {
      "image/png": "[encoded data removed]",
      "text/plain": [
       "<Figure size 864x504 with 1 Axes>"
      ]
     },
     "metadata": {
      "needs_background": "light"
     },
     "output_type": "display_data"
    }
   ],
   "source": [
    "fig, ax = plt.subplots(figsize=(12, 7), tight_layout=True)\n",
    "c1 = next(ax._get_lines.prop_cycler)['color']\n",
    "c2 = next(ax._get_lines.prop_cycler)['color']\n",
    "plot.calibration(sgd_predictions.cpu().numpy(), sgd_labels.numpy(), color=c1, label=\"SGD\", axis=ax)\n",
    "plot.calibration(mean_predictions.cpu().numpy(), labels.numpy(), color=c2, label=\"INF-Laplace\", axis=ax)\n",
    "plt.show()"
   ]
  }
 ],
 "metadata": {
  "kernelspec": {
   "display_name": "Python [conda env:curvature] *",
   "language": "python",
   "name": "conda-env-curvature-py"
  },
  "language_info": {
   "codemirror_mode": {
    "name": "ipython",
    "version": 3
   },
   "file_extension": ".py",
   "mimetype": "text/x-python",
   "name": "python",
   "nbconvert_exporter": "python",
   "pygments_lexer": "ipython3",
   "version": "3.8.5"
  }
 },
 "nbformat": 4,
 "nbformat_minor": 4
}
